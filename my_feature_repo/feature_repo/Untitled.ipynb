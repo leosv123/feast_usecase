{
 "cells": [
  {
   "cell_type": "code",
   "execution_count": 47,
   "id": "25e215d9",
   "metadata": {},
   "outputs": [],
   "source": [
    "from datetime import datetime\n",
    "import pandas as pd\n",
    "from feast import FeatureStore"
   ]
  },
  {
   "cell_type": "code",
   "execution_count": 48,
   "id": "e16c1a6b",
   "metadata": {},
   "outputs": [],
   "source": [
    "store = FeatureStore(repo_path=\".\")"
   ]
  },
  {
   "cell_type": "code",
   "execution_count": 70,
   "id": "94d86815",
   "metadata": {},
   "outputs": [],
   "source": [
    "entity_df = pd.DataFrame.from_dict(\n",
    "    {\n",
    "        \"customer_id\": [1, 2, 3, 4, 230,10000000],\n",
    "        \"event_timestamp\": [\n",
    "            datetime(1992, 4, 2, 0, 0, 0),\n",
    "            datetime(1992, 4, 2, 0, 0, 0),\n",
    "            datetime(1992, 4, 2, 0, 0, 0),\n",
    "            datetime(1992, 4, 2, 0, 0, 0),\n",
    "            datetime(1992, 4, 3, 0, 0, 0),\n",
    "            datetime(1992, 4, 3, 0, 0, 0)\n",
    "        ]\n",
    "    }\n",
    ")\n",
    "\n",
    "entity_df['customer_id'] = entity_df['customer_id'].astype('int32')"
   ]
  },
  {
   "cell_type": "code",
   "execution_count": 71,
   "id": "1e47df15",
   "metadata": {},
   "outputs": [
    {
     "data": {
      "text/html": [
       "<div>\n",
       "<style scoped>\n",
       "    .dataframe tbody tr th:only-of-type {\n",
       "        vertical-align: middle;\n",
       "    }\n",
       "\n",
       "    .dataframe tbody tr th {\n",
       "        vertical-align: top;\n",
       "    }\n",
       "\n",
       "    .dataframe thead th {\n",
       "        text-align: right;\n",
       "    }\n",
       "</style>\n",
       "<table border=\"1\" class=\"dataframe\">\n",
       "  <thead>\n",
       "    <tr style=\"text-align: right;\">\n",
       "      <th></th>\n",
       "      <th>customer_id</th>\n",
       "      <th>event_timestamp</th>\n",
       "    </tr>\n",
       "  </thead>\n",
       "  <tbody>\n",
       "    <tr>\n",
       "      <th>0</th>\n",
       "      <td>1</td>\n",
       "      <td>1992-04-02</td>\n",
       "    </tr>\n",
       "    <tr>\n",
       "      <th>1</th>\n",
       "      <td>2</td>\n",
       "      <td>1992-04-02</td>\n",
       "    </tr>\n",
       "    <tr>\n",
       "      <th>2</th>\n",
       "      <td>3</td>\n",
       "      <td>1992-04-02</td>\n",
       "    </tr>\n",
       "    <tr>\n",
       "      <th>3</th>\n",
       "      <td>4</td>\n",
       "      <td>1992-04-02</td>\n",
       "    </tr>\n",
       "    <tr>\n",
       "      <th>4</th>\n",
       "      <td>230</td>\n",
       "      <td>1992-04-03</td>\n",
       "    </tr>\n",
       "    <tr>\n",
       "      <th>5</th>\n",
       "      <td>10000000</td>\n",
       "      <td>1992-04-03</td>\n",
       "    </tr>\n",
       "  </tbody>\n",
       "</table>\n",
       "</div>"
      ],
      "text/plain": [
       "   customer_id event_timestamp\n",
       "0            1      1992-04-02\n",
       "1            2      1992-04-02\n",
       "2            3      1992-04-02\n",
       "3            4      1992-04-02\n",
       "4          230      1992-04-03\n",
       "5     10000000      1992-04-03"
      ]
     },
     "execution_count": 71,
     "metadata": {},
     "output_type": "execute_result"
    }
   ],
   "source": [
    "entity_df"
   ]
  },
  {
   "cell_type": "code",
   "execution_count": 72,
   "id": "1ac79d57",
   "metadata": {},
   "outputs": [
    {
     "name": "stdout",
     "output_type": "stream",
     "text": [
      "<class 'pandas.core.frame.DataFrame'>\n",
      "RangeIndex: 6 entries, 0 to 5\n",
      "Data columns (total 2 columns):\n",
      " #   Column           Non-Null Count  Dtype         \n",
      "---  ------           --------------  -----         \n",
      " 0   customer_id      6 non-null      int32         \n",
      " 1   event_timestamp  6 non-null      datetime64[ns]\n",
      "dtypes: datetime64[ns](1), int32(1)\n",
      "memory usage: 200.0 bytes\n"
     ]
    }
   ],
   "source": [
    "entity_df.info()"
   ]
  },
  {
   "cell_type": "code",
   "execution_count": 73,
   "id": "6d27f9b3",
   "metadata": {},
   "outputs": [],
   "source": [
    "training_df = store.get_historical_features(\n",
    "    entity_df=entity_df,\n",
    "    features=[\n",
    "        \"customer_hourly_stats:category\",\n",
    "        \"customer_hourly_stats:order_gmv\",\n",
    "        \"customer_hourly_stats:sex\",\n",
    "    ],\n",
    ").to_df()"
   ]
  },
  {
   "cell_type": "code",
   "execution_count": 74,
   "id": "778b0758",
   "metadata": {},
   "outputs": [
    {
     "data": {
      "text/html": [
       "<div>\n",
       "<style scoped>\n",
       "    .dataframe tbody tr th:only-of-type {\n",
       "        vertical-align: middle;\n",
       "    }\n",
       "\n",
       "    .dataframe tbody tr th {\n",
       "        vertical-align: top;\n",
       "    }\n",
       "\n",
       "    .dataframe thead th {\n",
       "        text-align: right;\n",
       "    }\n",
       "</style>\n",
       "<table border=\"1\" class=\"dataframe\">\n",
       "  <thead>\n",
       "    <tr style=\"text-align: right;\">\n",
       "      <th></th>\n",
       "      <th>customer_id</th>\n",
       "      <th>event_timestamp</th>\n",
       "      <th>category</th>\n",
       "      <th>order_gmv</th>\n",
       "      <th>sex</th>\n",
       "    </tr>\n",
       "  </thead>\n",
       "  <tbody>\n",
       "    <tr>\n",
       "      <th>0</th>\n",
       "      <td>10000000</td>\n",
       "      <td>1992-04-03 00:00:00+00:00</td>\n",
       "      <td>NaN</td>\n",
       "      <td>NaN</td>\n",
       "      <td>NaN</td>\n",
       "    </tr>\n",
       "    <tr>\n",
       "      <th>1</th>\n",
       "      <td>1</td>\n",
       "      <td>1992-04-02 00:00:00+00:00</td>\n",
       "      <td>3</td>\n",
       "      <td>7.250000</td>\n",
       "      <td>male</td>\n",
       "    </tr>\n",
       "    <tr>\n",
       "      <th>2</th>\n",
       "      <td>2</td>\n",
       "      <td>1992-04-02 00:00:00+00:00</td>\n",
       "      <td>1</td>\n",
       "      <td>71.283302</td>\n",
       "      <td>female</td>\n",
       "    </tr>\n",
       "    <tr>\n",
       "      <th>3</th>\n",
       "      <td>3</td>\n",
       "      <td>1992-04-02 00:00:00+00:00</td>\n",
       "      <td>3</td>\n",
       "      <td>7.925000</td>\n",
       "      <td>female</td>\n",
       "    </tr>\n",
       "    <tr>\n",
       "      <th>4</th>\n",
       "      <td>4</td>\n",
       "      <td>1992-04-02 00:00:00+00:00</td>\n",
       "      <td>1</td>\n",
       "      <td>53.099998</td>\n",
       "      <td>female</td>\n",
       "    </tr>\n",
       "    <tr>\n",
       "      <th>5</th>\n",
       "      <td>230</td>\n",
       "      <td>1992-04-03 00:00:00+00:00</td>\n",
       "      <td>3</td>\n",
       "      <td>25.466700</td>\n",
       "      <td>female</td>\n",
       "    </tr>\n",
       "  </tbody>\n",
       "</table>\n",
       "</div>"
      ],
      "text/plain": [
       "   customer_id           event_timestamp category  order_gmv     sex\n",
       "0     10000000 1992-04-03 00:00:00+00:00      NaN        NaN     NaN\n",
       "1            1 1992-04-02 00:00:00+00:00        3   7.250000    male\n",
       "2            2 1992-04-02 00:00:00+00:00        1  71.283302  female\n",
       "3            3 1992-04-02 00:00:00+00:00        3   7.925000  female\n",
       "4            4 1992-04-02 00:00:00+00:00        1  53.099998  female\n",
       "5          230 1992-04-03 00:00:00+00:00        3  25.466700  female"
      ]
     },
     "execution_count": 74,
     "metadata": {},
     "output_type": "execute_result"
    }
   ],
   "source": [
    "training_df"
   ]
  },
  {
   "cell_type": "code",
   "execution_count": 80,
   "id": "73811ba6",
   "metadata": {},
   "outputs": [],
   "source": [
    "feature_vector = store.get_online_features(\n",
    "    features=[\n",
    "        \"customer_hourly_stats:category\",\n",
    "        \"customer_hourly_stats:order_gmv\",\n",
    "        \"customer_hourly_stats:sex\",\n",
    "    ],\n",
    "    entity_rows=[{\"customer_id\": 3}, {\"customer_id\": 2}, {\"customer_id\": 82323}],\n",
    ").to_dict()"
   ]
  },
  {
   "cell_type": "code",
   "execution_count": 81,
   "id": "35a55c7e",
   "metadata": {},
   "outputs": [
    {
     "data": {
      "text/plain": [
       "{'customer_id': [3, 2, 82323],\n",
       " 'category': [3, 1, None],\n",
       " 'order_gmv': [7.925000190734863, 71.2833023071289, None],\n",
       " 'sex': ['female', 'female', None]}"
      ]
     },
     "execution_count": 81,
     "metadata": {},
     "output_type": "execute_result"
    }
   ],
   "source": [
    "feature_vector"
   ]
  },
  {
   "cell_type": "code",
   "execution_count": null,
   "id": "e11aeab3",
   "metadata": {},
   "outputs": [],
   "source": []
  }
 ],
 "metadata": {
  "kernelspec": {
   "display_name": "Python 3 (ipykernel)",
   "language": "python",
   "name": "python3"
  },
  "language_info": {
   "codemirror_mode": {
    "name": "ipython",
    "version": 3
   },
   "file_extension": ".py",
   "mimetype": "text/x-python",
   "name": "python",
   "nbconvert_exporter": "python",
   "pygments_lexer": "ipython3",
   "version": "3.9.12"
  }
 },
 "nbformat": 4,
 "nbformat_minor": 5
}
